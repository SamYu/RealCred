{
  "nbformat": 4,
  "nbformat_minor": 0,
  "metadata": {
    "colab": {
      "name": "htg2022 convabuse",
      "provenance": []
    },
    "kernelspec": {
      "name": "python3",
      "display_name": "Python 3"
    },
    "language_info": {
      "name": "python"
    }
  },
  "cells": [
    {
      "cell_type": "code",
      "execution_count": null,
      "metadata": {
        "id": "XLpnsfLIX9oB"
      },
      "outputs": [],
      "source": [
        "import pandas as pd \n",
        "import seaborn as sns\n",
        "sns.set(style=\"whitegrid\")\n",
        "\n",
        "data = pd.read_csv(\"./drive/MyDrive/htg2022/convabuse.csv\")\n",
        "data.head()"
      ]
    },
    {
      "cell_type": "code",
      "source": [
        "non_abusive = data[(data['is_abuse.1'] == 1) | (data['is_abuse.0'] == 1)]\n",
        "abusive = data[(data['is_abuse.-1'] == 1) | (data['is_abuse.-2'] == 1) | (data['is_abuse.-3'] == 1)]\n",
        "abusive.head()"
      ],
      "metadata": {
        "id": "cnZeRCahZBhI"
      },
      "execution_count": null,
      "outputs": []
    },
    {
      "cell_type": "code",
      "source": [
        "rev_one_hot = data\n",
        "rev_one_hot['abuse_score'] = (rev_one_hot.iloc[:, 8:13] == 1).idxmax(1).str.replace('is_abuse.1', '0').replace('is_abuse.0', '1').replace('is_abuse.-1', '2').replace('is_abuse.-2', '3').replace('is_abuse.-3', '4')\n",
        "ax = sns.countplot(x=\"abuse_score\", data=rev_one_hot).set_title(\"Occurences of abusive messages in training data\")"
      ],
      "metadata": {
        "colab": {
          "base_uri": "https://localhost:8080/",
          "height": 336
        },
        "id": "Omsm6KsjavsI",
        "outputId": "76bbb50a-1f88-4718-caba-82d3e26aa65e"
      },
      "execution_count": 3,
      "outputs": [
        {
          "output_type": "stream",
          "name": "stderr",
          "text": [
            "/usr/local/lib/python3.7/dist-packages/ipykernel_launcher.py:2: FutureWarning: The default value of regex will change from True to False in a future version.\n",
            "  \n"
          ]
        },
        {
          "output_type": "display_data",
          "data": {
            "text/plain": [
              "<Figure size 432x288 with 1 Axes>"
            ],
            "image/png": "[encoded data removed]"
          },
          "metadata": {
            "needs_background": "light"
          }
        }
      ]
    }
  ]
}